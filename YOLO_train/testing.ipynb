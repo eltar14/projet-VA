{
 "cells": [
  {
   "cell_type": "code",
   "id": "de0a41ef-bd1d-4902-8328-0f7bac6f57ab",
   "metadata": {
    "ExecuteTime": {
     "end_time": "2024-11-22T15:52:05.640774Z",
     "start_time": "2024-11-22T15:52:05.637835Z"
    }
   },
   "source": [
    "from ultralytics import YOLO\n",
    "import matplotlib.pyplot as plt\n",
    "import matplotlib.image as mpimg\n",
    "import os\n",
    "import random"
   ],
   "outputs": [],
   "execution_count": 9
  },
  {
   "cell_type": "code",
   "id": "cced271eba92a2d7",
   "metadata": {
    "collapsed": false,
    "ExecuteTime": {
     "end_time": "2024-11-22T15:52:05.652486Z",
     "start_time": "2024-11-22T15:52:05.650483Z"
    }
   },
   "source": [
    "def show_image(image_path):\n",
    "    # Ensure the image file exists before trying to display it\n",
    "    if not os.path.exists(image_path):\n",
    "        print(f\"Image not found: {image_path}\")\n",
    "        return\n",
    "    \n",
    "    image = mpimg.imread(image_path)\n",
    "    plt.imshow(image)\n",
    "    plt.axis('off')  # Turn off the axis\n",
    "    plt.show()"
   ],
   "outputs": [],
   "execution_count": 10
  },
  {
   "cell_type": "code",
   "id": "4ec3af55-0b1e-4097-a19c-f2676231d817",
   "metadata": {
    "ExecuteTime": {
     "end_time": "2024-11-22T15:52:05.658412Z",
     "start_time": "2024-11-22T15:52:05.655499Z"
    }
   },
   "source": [
    "def show_results(images, path):\n",
    "    for image_name in images:\n",
    "        annotated_image_path = os.path.join(path, image_name)\n",
    "        show_image(annotated_image_path)"
   ],
   "outputs": [],
   "execution_count": 11
  },
  {
   "metadata": {
    "ExecuteTime": {
     "end_time": "2024-11-22T15:52:05.668205Z",
     "start_time": "2024-11-22T15:52:05.665083Z"
    }
   },
   "cell_type": "code",
   "source": [
    "save_dir = 'runs\\\\detect\\\\predict3'\n",
    "chemin_dossier = './datasets/test/images/'\n",
    "\n",
    "contenu_dossier = os.listdir(chemin_dossier)\n",
    "\n",
    "content = []\n",
    "\n",
    "for element in contenu_dossier:\n",
    "    content.append(element)\n"
   ],
   "id": "dbcdc864092d1e25",
   "outputs": [],
   "execution_count": 12
  },
  {
   "metadata": {
    "ExecuteTime": {
     "end_time": "2024-11-22T15:52:05.677876Z",
     "start_time": "2024-11-22T15:52:05.673846Z"
    }
   },
   "cell_type": "code",
   "source": [
    "random_images = random.sample(content, 10)\n",
    "image_path = [chemin_dossier + image for image in random_images]\n",
    "image_path\n"
   ],
   "id": "c31c810b916ec851",
   "outputs": [
    {
     "data": {
      "text/plain": [
       "['./datasets/test/images/test_User4_n_User4_N_32.png',\n",
       " './datasets/test/images/test_User3_e_User3_E_14.png',\n",
       " './datasets/test/images/test_User3_y_User3_Y_38.png',\n",
       " './datasets/test/images/test_User4_d_User4_D_33.png',\n",
       " './datasets/test/images/test_User2_h_User2_H_34.png',\n",
       " './datasets/test/images/test_User4_v_User4_V_3.png',\n",
       " './datasets/test/images/test_User2_w_User2_W_27.png',\n",
       " './datasets/test/images/test_User1_t_User1_T_21.png',\n",
       " './datasets/test/images/test_User4_v_User4_V_9.png',\n",
       " './datasets/test/images/test_User3_s_User3_S_38.png']"
      ]
     },
     "execution_count": 13,
     "metadata": {},
     "output_type": "execute_result"
    }
   ],
   "execution_count": 13
  },
  {
   "metadata": {
    "ExecuteTime": {
     "end_time": "2024-11-22T15:52:05.714148Z",
     "start_time": "2024-11-22T15:52:05.693363Z"
    }
   },
   "cell_type": "code",
   "source": "model = YOLO('models/best.pt')",
   "id": "e39a94a0401e0904",
   "outputs": [],
   "execution_count": 14
  },
  {
   "metadata": {
    "ExecuteTime": {
     "end_time": "2024-11-22T15:52:06.466988Z",
     "start_time": "2024-11-22T15:52:05.720304Z"
    }
   },
   "cell_type": "code",
   "source": "results = model.predict(source=image_path, save=True, save_dir=save_dir)",
   "id": "d1ac8be0000e26d9",
   "outputs": [
    {
     "name": "stdout",
     "output_type": "stream",
     "text": [
      "\n",
      "0: 640x640 1 M, 1 N, 24.6ms\n",
      "1: 640x640 1 E, 24.6ms\n",
      "2: 640x640 1 Y, 24.6ms\n",
      "3: 640x640 1 D, 24.6ms\n",
      "4: 640x640 1 G, 1 H, 24.6ms\n",
      "5: 640x640 1 V, 24.6ms\n",
      "6: 640x640 1 W, 24.6ms\n",
      "7: 640x640 1 N, 24.6ms\n",
      "8: 640x640 1 V, 24.6ms\n",
      "9: 640x640 1 S, 1 T, 24.6ms\n",
      "Speed: 4.4ms preprocess, 24.6ms inference, 0.5ms postprocess per image at shape (1, 3, 640, 640)\n",
      "Results saved to \u001B[1mruns\\detect\\predict3\u001B[0m\n"
     ]
    }
   ],
   "execution_count": 15
  },
  {
   "metadata": {
    "ExecuteTime": {
     "end_time": "2024-11-22T15:57:24.448255Z",
     "start_time": "2024-11-22T15:57:24.445408Z"
    }
   },
   "cell_type": "code",
   "source": [
    "image_names = save_dir.split(\".\")\n",
    "\n",
    "path = os.path.join(os.getcwd(), save_dir)\n",
    "show_results(random_images, path)"
   ],
   "id": "101a7118582dd649",
   "outputs": [
    {
     "name": "stdout",
     "output_type": "stream",
     "text": [
      "Image not found: C:\\Users\\elise\\Documents\\GitHub\\projet-VA\\YOLO_train\\runs\\detect\\predict3\\test_User4_n_User4_N_32.png\n",
      "Image not found: C:\\Users\\elise\\Documents\\GitHub\\projet-VA\\YOLO_train\\runs\\detect\\predict3\\test_User3_e_User3_E_14.png\n",
      "Image not found: C:\\Users\\elise\\Documents\\GitHub\\projet-VA\\YOLO_train\\runs\\detect\\predict3\\test_User3_y_User3_Y_38.png\n",
      "Image not found: C:\\Users\\elise\\Documents\\GitHub\\projet-VA\\YOLO_train\\runs\\detect\\predict3\\test_User4_d_User4_D_33.png\n",
      "Image not found: C:\\Users\\elise\\Documents\\GitHub\\projet-VA\\YOLO_train\\runs\\detect\\predict3\\test_User2_h_User2_H_34.png\n",
      "Image not found: C:\\Users\\elise\\Documents\\GitHub\\projet-VA\\YOLO_train\\runs\\detect\\predict3\\test_User4_v_User4_V_3.png\n",
      "Image not found: C:\\Users\\elise\\Documents\\GitHub\\projet-VA\\YOLO_train\\runs\\detect\\predict3\\test_User2_w_User2_W_27.png\n",
      "Image not found: C:\\Users\\elise\\Documents\\GitHub\\projet-VA\\YOLO_train\\runs\\detect\\predict3\\test_User1_t_User1_T_21.png\n",
      "Image not found: C:\\Users\\elise\\Documents\\GitHub\\projet-VA\\YOLO_train\\runs\\detect\\predict3\\test_User4_v_User4_V_9.png\n",
      "Image not found: C:\\Users\\elise\\Documents\\GitHub\\projet-VA\\YOLO_train\\runs\\detect\\predict3\\test_User3_s_User3_S_38.png\n"
     ]
    }
   ],
   "execution_count": 20
  },
  {
   "metadata": {
    "ExecuteTime": {
     "end_time": "2024-11-22T15:56:04.145254Z",
     "start_time": "2024-11-22T15:56:04.141947Z"
    }
   },
   "cell_type": "code",
   "source": "os.getcwd()",
   "id": "e0963785e172cd90",
   "outputs": [
    {
     "data": {
      "text/plain": [
       "'C:\\\\Users\\\\elise\\\\Documents\\\\GitHub\\\\projet-VA\\\\YOLO_train'"
      ]
     },
     "execution_count": 18,
     "metadata": {},
     "output_type": "execute_result"
    }
   ],
   "execution_count": 18
  },
  {
   "metadata": {},
   "cell_type": "code",
   "outputs": [],
   "execution_count": null,
   "source": "",
   "id": "176eb03a47b3296"
  }
 ],
 "metadata": {
  "kernelspec": {
   "display_name": "Python 3 (ipykernel)",
   "language": "python",
   "name": "python3"
  },
  "language_info": {
   "codemirror_mode": {
    "name": "ipython",
    "version": 3
   },
   "file_extension": ".py",
   "mimetype": "text/x-python",
   "name": "python",
   "nbconvert_exporter": "python",
   "pygments_lexer": "ipython3",
   "version": "3.12.2"
  }
 },
 "nbformat": 4,
 "nbformat_minor": 5
}
