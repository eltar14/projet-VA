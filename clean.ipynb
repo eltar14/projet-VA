{
 "cells": [
  {
   "cell_type": "code",
   "id": "initial_id",
   "metadata": {
    "ExecuteTime": {
     "end_time": "2024-12-03T20:23:44.005783Z",
     "start_time": "2024-12-03T20:23:43.991159Z"
    }
   },
   "source": [
    "import os\n",
    "import shutil"
   ],
   "outputs": [],
   "execution_count": 6
  },
  {
   "cell_type": "code",
   "id": "3d14d72d-ecae-430e-ad51-3f5155bed2c0",
   "metadata": {
    "ExecuteTime": {
     "end_time": "2024-12-03T20:23:44.017066Z",
     "start_time": "2024-12-03T20:23:44.013907Z"
    }
   },
   "source": [
    "current_path = os.getcwd()"
   ],
   "outputs": [],
   "execution_count": 7
  },
  {
   "cell_type": "code",
   "id": "7aefeb9c90611fd",
   "metadata": {
    "collapsed": false,
    "ExecuteTime": {
     "end_time": "2024-12-03T20:23:55.097098Z",
     "start_time": "2024-12-03T20:23:55.093295Z"
    }
   },
   "source": "path = current_path + '\\\\YOLO_train\\\\autre_datasets'\n",
   "outputs": [],
   "execution_count": 11
  },
  {
   "cell_type": "code",
   "id": "f25a9373e0103c9c",
   "metadata": {
    "collapsed": false,
    "ExecuteTime": {
     "end_time": "2024-12-03T20:23:55.285584Z",
     "start_time": "2024-12-03T20:23:55.281524Z"
    }
   },
   "source": [
    "def delete_folder(folder_path):\n",
    "    if os.path.exists(folder_path):\n",
    "        shutil.rmtree(folder_path)\n",
    "        print(f\"The folder {folder_path} has been deleted.\")\n",
    "    else:\n",
    "        print(f\"The folder {folder_path} does not exist.\")"
   ],
   "outputs": [],
   "execution_count": 12
  },
  {
   "cell_type": "code",
   "source": "delete_folder(path)",
   "metadata": {
    "collapsed": false,
    "ExecuteTime": {
     "end_time": "2024-12-03T20:23:58.468907Z",
     "start_time": "2024-12-03T20:23:55.822233Z"
    }
   },
   "id": "57888069be98a5b8",
   "outputs": [
    {
     "name": "stdout",
     "output_type": "stream",
     "text": [
      "The folder C:\\Users\\elise\\Documents\\GitHub\\projet-VA\\YOLO_train\\autre_datasets has been deleted.\n"
     ]
    }
   ],
   "execution_count": 13
  },
  {
   "metadata": {
    "ExecuteTime": {
     "end_time": "2024-12-03T20:23:44.045838Z",
     "start_time": "2024-12-03T20:23:44.038073Z"
    }
   },
   "cell_type": "code",
   "source": "",
   "id": "4fa8210fcdeabdfb",
   "outputs": [],
   "execution_count": null
  }
 ],
 "metadata": {
  "kernelspec": {
   "display_name": "Python 3 (ipykernel)",
   "language": "python",
   "name": "python3"
  },
  "language_info": {
   "codemirror_mode": {
    "name": "ipython",
    "version": 3
   },
   "file_extension": ".py",
   "mimetype": "text/x-python",
   "name": "python",
   "nbconvert_exporter": "python",
   "pygments_lexer": "ipython3",
   "version": "3.12.2"
  }
 },
 "nbformat": 4,
 "nbformat_minor": 5
}
