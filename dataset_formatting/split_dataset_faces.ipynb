{
 "cells": [
  {
   "cell_type": "code",
   "id": "initial_id",
   "metadata": {
    "collapsed": true,
    "ExecuteTime": {
     "end_time": "2024-12-03T20:56:17.539408Z",
     "start_time": "2024-12-03T20:56:17.528062Z"
    }
   },
   "source": [
    "import os\n",
    "import shutil\n",
    "from tqdm import tqdm\n",
    "import random"
   ],
   "outputs": [],
   "execution_count": 19
  },
  {
   "metadata": {
    "ExecuteTime": {
     "end_time": "2024-12-03T20:56:17.544323Z",
     "start_time": "2024-12-03T20:56:17.539408Z"
    }
   },
   "cell_type": "code",
   "source": [
    "ACTUAL_PATH = os.getcwd()\n",
    "IMAGES = os.path.join(ACTUAL_PATH, \"..\\\\YOLO_train\\\\faces\\\\images\\\\train\")\n",
    "LABELS = os.path.join(ACTUAL_PATH, \"..\\\\YOLO_train\\\\faces\\\\labels\\\\train\")\n",
    "\n",
    "OUTPUT_PATH = os.path.join(ACTUAL_PATH, \"..\\\\YOLO_train\\\\datasets\")"
   ],
   "id": "3ab456cf52913a31",
   "outputs": [],
   "execution_count": 20
  },
  {
   "metadata": {
    "ExecuteTime": {
     "end_time": "2024-12-03T20:56:17.554644Z",
     "start_time": "2024-12-03T20:56:17.548777Z"
    }
   },
   "cell_type": "code",
   "source": [
    "def change_labels(labels):\n",
    "    for label in labels:\n",
    "        label_path = os.path.join(LABELS, label)\n",
    "        if os.path.exists(label_path):\n",
    "            with open(label_path, 'r') as f:\n",
    "                label_data = f.read().strip()\n",
    "\n",
    "            with open(label_path, 'w') as label_file:\n",
    "                updated_labels = []\n",
    "                for line in label_data.splitlines():\n",
    "                    parts = line.split()  # Découpe la ligne par espaces\n",
    "                    if len(parts) >= 5:  # Assure qu'il y a au moins la classe et 4 coordonnées\n",
    "                        parts[0] = str(26)  # Remplace l'indice de classe\n",
    "                        updated_labels.append(\" \".join(parts))  # Reconstruis la ligne\n",
    "                label_file.write(\"\\n\".join(updated_labels) + \"\\n\")"
   ],
   "id": "314d1797a64ef457",
   "outputs": [],
   "execution_count": 21
  },
  {
   "metadata": {
    "ExecuteTime": {
     "end_time": "2024-12-03T20:56:17.561204Z",
     "start_time": "2024-12-03T20:56:17.558215Z"
    }
   },
   "cell_type": "code",
   "source": [
    "def make_dirs(train_test):\n",
    "    for type in train_test:\n",
    "        os.makedirs(os.path.join(ACTUAL_PATH, OUTPUT_PATH, type, \"images\"), exist_ok=True)\n",
    "        os.makedirs(os.path.join(ACTUAL_PATH, OUTPUT_PATH, type, \"labels\"), exist_ok=True)"
   ],
   "id": "ba38d7b9688db479",
   "outputs": [],
   "execution_count": 22
  },
  {
   "metadata": {
    "ExecuteTime": {
     "end_time": "2024-12-03T20:56:17.567919Z",
     "start_time": "2024-12-03T20:56:17.565169Z"
    }
   },
   "cell_type": "code",
   "source": [
    "def split_data(images, labels, train_number, test_number):\n",
    "    data = list(zip(images, labels))\n",
    "    random.shuffle(data)\n",
    "    train_data = data[:train_number]\n",
    "    test_data = data[train_number:train_number + test_number]\n",
    "    return train_data, test_data"
   ],
   "id": "82d143d8e7ffd693",
   "outputs": [],
   "execution_count": 23
  },
  {
   "metadata": {
    "ExecuteTime": {
     "end_time": "2024-12-03T20:56:17.574494Z",
     "start_time": "2024-12-03T20:56:17.571396Z"
    }
   },
   "cell_type": "code",
   "source": [
    "def move_to_dir(data, train_or_test):\n",
    "\n",
    "    images_path_destination = os.path.join(ACTUAL_PATH, OUTPUT_PATH, train_or_test, \"images\")\n",
    "    labels_path_destination = os.path.join(ACTUAL_PATH, OUTPUT_PATH, train_or_test, \"labels\")\n",
    "\n",
    "    data_images = [img for img, _ in data]\n",
    "    data_labels = [label for _, label in data]\n",
    "\n",
    "    for img_name in data_images:\n",
    "        img_path = os.path.join(IMAGES, img_name)\n",
    "        image_path_dest = os.path.join(images_path_destination, img_name)\n",
    "        shutil.copy(img_path, image_path_dest)\n",
    "\n",
    "    for label_name in data_labels:\n",
    "        label_path = os.path.join(LABELS, label_name)\n",
    "        label_path_dest = os.path.join(labels_path_destination, label_name)\n",
    "        shutil.copy(label_path, label_path_dest)\n"
   ],
   "id": "d25e88d61abaa48f",
   "outputs": [],
   "execution_count": 24
  },
  {
   "metadata": {
    "ExecuteTime": {
     "end_time": "2024-12-03T20:56:17.581597Z",
     "start_time": "2024-12-03T20:56:17.578311Z"
    }
   },
   "cell_type": "code",
   "source": [
    "train_test = [\"train\", \"test\"]\n",
    "make_dirs(train_test)"
   ],
   "id": "ccca37d3ba286617",
   "outputs": [],
   "execution_count": 25
  },
  {
   "metadata": {
    "ExecuteTime": {
     "end_time": "2024-12-03T20:56:17.826423Z",
     "start_time": "2024-12-03T20:56:17.589316Z"
    }
   },
   "cell_type": "code",
   "source": [
    "images = os.listdir(IMAGES)\n",
    "labels = os.listdir(LABELS)\n",
    "change_labels(labels)\n",
    "train_data, test_data = split_data(images, labels, 300,30)"
   ],
   "id": "cddc2cecc47512ed",
   "outputs": [],
   "execution_count": 26
  },
  {
   "metadata": {
    "ExecuteTime": {
     "end_time": "2024-12-03T20:56:20.816330Z",
     "start_time": "2024-12-03T20:56:17.826423Z"
    }
   },
   "cell_type": "code",
   "source": [
    "move_to_dir(train_data, \"train\")\n",
    "move_to_dir(test_data, \"test\")"
   ],
   "id": "613d6af8a8eb885a",
   "outputs": [],
   "execution_count": 27
  }
 ],
 "metadata": {
  "kernelspec": {
   "display_name": "Python 3",
   "language": "python",
   "name": "python3"
  },
  "language_info": {
   "codemirror_mode": {
    "name": "ipython",
    "version": 2
   },
   "file_extension": ".py",
   "mimetype": "text/x-python",
   "name": "python",
   "nbconvert_exporter": "python",
   "pygments_lexer": "ipython2",
   "version": "2.7.6"
  }
 },
 "nbformat": 4,
 "nbformat_minor": 5
}
